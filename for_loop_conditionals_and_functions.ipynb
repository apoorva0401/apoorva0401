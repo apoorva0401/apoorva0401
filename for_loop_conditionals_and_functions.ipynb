{
  "nbformat": 4,
  "nbformat_minor": 0,
  "metadata": {
    "colab": {
      "provenance": [],
      "include_colab_link": true
    },
    "kernelspec": {
      "name": "python3",
      "display_name": "Python 3"
    },
    "language_info": {
      "name": "python"
    }
  },
  "cells": [
    {
      "cell_type": "markdown",
      "metadata": {
        "id": "view-in-github",
        "colab_type": "text"
      },
      "source": [
        "<a href=\"https://colab.research.google.com/github/apoorva0401/apoorva0401/blob/main/for_loop_conditionals_and_functions.ipynb\" target=\"_parent\"><img src=\"https://colab.research.google.com/assets/colab-badge.svg\" alt=\"Open In Colab\"/></a>"
      ]
    },
    {
      "cell_type": "code",
      "execution_count": null,
      "metadata": {
        "id": "sHf-O9SAGfc7"
      },
      "outputs": [],
      "source": [
        "# given a lit of item give me a summation of even\n",
        "\n",
        "# iterating on dataframes gdp"
      ]
    },
    {
      "cell_type": "markdown",
      "source": [
        "compare and assign"
      ],
      "metadata": {
        "id": "zN7nBXORHEkZ"
      }
    },
    {
      "cell_type": "code",
      "source": [
        "my_list = ['ina','meena','dika','33','23','76']\n",
        "my_list[1].upper()"
      ],
      "metadata": {
        "colab": {
          "base_uri": "https://localhost:8080/",
          "height": 35
        },
        "id": "UO-YW9JSG0o2",
        "outputId": "0a3a1637-2a99-4d73-bb96-e6ccf93c0341"
      },
      "execution_count": null,
      "outputs": [
        {
          "output_type": "execute_result",
          "data": {
            "text/plain": [
              "'MEENA'"
            ],
            "application/vnd.google.colaboratory.intrinsic+json": {
              "type": "string"
            }
          },
          "metadata": {},
          "execution_count": 9
        }
      ]
    },
    {
      "cell_type": "code",
      "source": [
        "\n",
        "for name in my_list:\n",
        "  my_list[1]=my_list[1].upper()\n",
        "  print(name)"
      ],
      "metadata": {
        "colab": {
          "base_uri": "https://localhost:8080/"
        },
        "id": "CmwNjngvJ_W7",
        "outputId": "796183ee-9c8a-44fa-f3dc-8b89eb62d4d6"
      },
      "execution_count": null,
      "outputs": [
        {
          "output_type": "stream",
          "name": "stdout",
          "text": [
            "ina\n",
            "MEENA\n",
            "dika\n",
            "33\n",
            "23\n",
            "76\n"
          ]
        }
      ]
    },
    {
      "cell_type": "code",
      "source": [
        "print(list(range(5))"
      ],
      "metadata": {
        "colab": {
          "base_uri": "https://localhost:8080/"
        },
        "id": "LB9jMZquN1JD",
        "outputId": "8a8ce319-b1d8-4374-fe7a-d779b0f22a0f"
      },
      "execution_count": null,
      "outputs": [
        {
          "output_type": "stream",
          "name": "stdout",
          "text": [
            "range(0, 5)\n"
          ]
        }
      ]
    },
    {
      "cell_type": "code",
      "source": [
        "b = list(range(5))\n",
        "print(b)"
      ],
      "metadata": {
        "colab": {
          "base_uri": "https://localhost:8080/"
        },
        "id": "b4jjuF3DOJzE",
        "outputId": "705d4d86-ff82-4efa-b0c7-86f7d6b18bcb"
      },
      "execution_count": null,
      "outputs": [
        {
          "output_type": "stream",
          "name": "stdout",
          "text": [
            "[0, 1, 2, 3, 4]\n"
          ]
        }
      ]
    },
    {
      "cell_type": "code",
      "source": [
        "c = list(range(10000)) # escape character \\\n",
        "\n",
        "print(\\nc)# investigate n\n",
        "#print(*c,sep='\\n')"
      ],
      "metadata": {
        "colab": {
          "base_uri": "https://localhost:8080/",
          "height": 106
        },
        "id": "q7rza-hiOxoj",
        "outputId": "492cc63e-e39d-47c0-ea20-c017f5f651af"
      },
      "execution_count": null,
      "outputs": [
        {
          "output_type": "error",
          "ename": "SyntaxError",
          "evalue": "unexpected character after line continuation character (<ipython-input-10-de54dbddb465>, line 3)",
          "traceback": [
            "\u001b[0;36m  File \u001b[0;32m\"<ipython-input-10-de54dbddb465>\"\u001b[0;36m, line \u001b[0;32m3\u001b[0m\n\u001b[0;31m    print(\\nc)# investigate n\u001b[0m\n\u001b[0m           ^\u001b[0m\n\u001b[0;31mSyntaxError\u001b[0m\u001b[0;31m:\u001b[0m unexpected character after line continuation character\n"
          ]
        }
      ]
    },
    {
      "cell_type": "code",
      "source": [
        "print('hello\\nworld')#,sep='/n')\n",
        "#print('world') #,sep='/n')"
      ],
      "metadata": {
        "colab": {
          "base_uri": "https://localhost:8080/"
        },
        "id": "ROdvg7keYEbf",
        "outputId": "4526eaa8-f3c2-4caf-93e9-60070b3991f9"
      },
      "execution_count": null,
      "outputs": [
        {
          "output_type": "stream",
          "name": "stdout",
          "text": [
            "hello\n",
            "world\n"
          ]
        }
      ]
    },
    {
      "cell_type": "code",
      "source": [
        "shaurya_boyfriends = 'jindal\"s' # \"jindal's\"\n",
        "print(shaurya_boyfriends)"
      ],
      "metadata": {
        "colab": {
          "base_uri": "https://localhost:8080/"
        },
        "id": "kADqmI6EZ1q1",
        "outputId": "2ead2096-61a8-413a-f115-b913e55b83ca"
      },
      "execution_count": null,
      "outputs": [
        {
          "output_type": "stream",
          "name": "stdout",
          "text": [
            "jindal\"s\n"
          ]
        }
      ]
    },
    {
      "cell_type": "code",
      "source": [
        "for star in range(5):\n",
        "  for star_inside in range(5):\n",
        "    print('*')\n",
        "  print('*')"
      ],
      "metadata": {
        "colab": {
          "base_uri": "https://localhost:8080/"
        },
        "id": "yeJOZLKsP6hg",
        "outputId": "d42cc8a6-c603-48b2-ca79-82ef76e6bb8b"
      },
      "execution_count": null,
      "outputs": [
        {
          "output_type": "stream",
          "name": "stdout",
          "text": [
            "*\n",
            "*\n",
            "*\n",
            "*\n",
            "*\n",
            "*\n",
            "*\n",
            "*\n",
            "*\n",
            "*\n",
            "*\n",
            "*\n",
            "*\n",
            "*\n",
            "*\n",
            "*\n",
            "*\n",
            "*\n",
            "*\n",
            "*\n",
            "*\n",
            "*\n",
            "*\n",
            "*\n",
            "*\n",
            "*\n",
            "*\n",
            "*\n",
            "*\n",
            "*\n"
          ]
        }
      ]
    },
    {
      "cell_type": "code",
      "source": [
        "# not in @\n",
        "\n",
        "haal_chaal = input(\"kaisan ba: \")"
      ],
      "metadata": {
        "colab": {
          "base_uri": "https://localhost:8080/"
        },
        "id": "m9opLCYbfpMt",
        "outputId": "d9613bfc-1e1d-4ff0-8455-de613cd763be"
      },
      "execution_count": null,
      "outputs": [
        {
          "name": "stdout",
          "output_type": "stream",
          "text": [
            "kaisan ba: theek ba\n"
          ]
        }
      ]
    },
    {
      "cell_type": "code",
      "source": [
        "haal_chaal"
      ],
      "metadata": {
        "colab": {
          "base_uri": "https://localhost:8080/",
          "height": 35
        },
        "id": "d_Nw6CM5gwSW",
        "outputId": "d4262877-87c9-470d-b982-8cfdb7d2e1a0"
      },
      "execution_count": null,
      "outputs": [
        {
          "output_type": "execute_result",
          "data": {
            "text/plain": [
              "'theek ba'"
            ],
            "application/vnd.google.colaboratory.intrinsic+json": {
              "type": "string"
            }
          },
          "metadata": {},
          "execution_count": 21
        }
      ]
    },
    {
      "cell_type": "code",
      "source": [
        "# not in @\n",
        "\n",
        "age = int(input(\"kaka whats your age: \"))"
      ],
      "metadata": {
        "colab": {
          "base_uri": "https://localhost:8080/"
        },
        "id": "q73t9JnchKeT",
        "outputId": "f29446f1-9e66-474c-c8d3-b55e2f4b8054"
      },
      "execution_count": null,
      "outputs": [
        {
          "name": "stdout",
          "output_type": "stream",
          "text": [
            "kaka whats your age: 100\n"
          ]
        }
      ]
    },
    {
      "cell_type": "code",
      "source": [
        "age + 20"
      ],
      "metadata": {
        "colab": {
          "base_uri": "https://localhost:8080/"
        },
        "id": "thum_R_VhSAD",
        "outputId": "34c8fc38-5cc9-40c4-cc61-f2ae0006ae17"
      },
      "execution_count": null,
      "outputs": [
        {
          "output_type": "execute_result",
          "data": {
            "text/plain": [
              "120"
            ]
          },
          "metadata": {},
          "execution_count": 26
        }
      ]
    },
    {
      "cell_type": "code",
      "source": [
        "# for loop\n",
        "\n"
      ],
      "metadata": {
        "id": "84QQ7fAyhSbo"
      },
      "execution_count": null,
      "outputs": []
    },
    {
      "cell_type": "code",
      "source": [
        "traffic_colour = input('what is the traffic colour among red, green and yellow: ')"
      ],
      "metadata": {
        "colab": {
          "base_uri": "https://localhost:8080/"
        },
        "id": "11cK8X-Pht-W",
        "outputId": "33809533-7325-4e9d-b16d-ddea29866068"
      },
      "execution_count": null,
      "outputs": [
        {
          "name": "stdout",
          "output_type": "stream",
          "text": [
            "what is the traffic colour among red, green and yellow: black\n"
          ]
        }
      ]
    },
    {
      "cell_type": "code",
      "source": [
        "if traffic_colour == 'red':\n",
        "  print('staaap')\n",
        "\n",
        "elif traffic_colour == 'yellow':\n",
        "  print('sloooooooooooooooooooooooooowwwwwwwwwwwwwwwwwwwwwwwwwwwwwwwwwwww')\n",
        "\n",
        "elif traffic_colour == 'green':\n",
        "  print('goooooooooooooooooooooooooooooooooo')\n",
        "\n",
        "else:\n",
        "  print('bavdi pooch andha he ke')\n",
        "\n",
        "\n",
        "\n",
        "  #print('its definitely not red but I dont know what this is')"
      ],
      "metadata": {
        "colab": {
          "base_uri": "https://localhost:8080/"
        },
        "id": "J5hDCHwEh7AN",
        "outputId": "27f1ec25-e753-45a4-b67f-fcabf8a2ab04"
      },
      "execution_count": null,
      "outputs": [
        {
          "output_type": "stream",
          "name": "stdout",
          "text": [
            "bavdi pooch andha he ke\n"
          ]
        }
      ]
    },
    {
      "cell_type": "code",
      "source": [
        "# explain while\n",
        "\n",
        "def biscuit():\n",
        "  print('parle g khanne se shakti aati hai')"
      ],
      "metadata": {
        "id": "b_saPaUSjvrM"
      },
      "execution_count": null,
      "outputs": []
    },
    {
      "cell_type": "code",
      "source": [
        "biscuit()"
      ],
      "metadata": {
        "colab": {
          "base_uri": "https://localhost:8080/"
        },
        "id": "iFSjQKi6mR_r",
        "outputId": "779277fa-96e2-4310-a44b-b7d2c9675f9c"
      },
      "execution_count": null,
      "outputs": [
        {
          "output_type": "stream",
          "name": "stdout",
          "text": [
            "parle g khanne se shakti aati hai\n"
          ]
        }
      ]
    },
    {
      "cell_type": "code",
      "source": [
        "# print is not a substitute of return"
      ],
      "metadata": {
        "id": "Yt81VN-fneJ8"
      },
      "execution_count": null,
      "outputs": []
    },
    {
      "cell_type": "code",
      "source": [
        "def piakkad(age):\n",
        "  years_left = 21-age\n",
        "  print('oops you have',years_left,'years to become a piakkad and destroy your life')\n"
      ],
      "metadata": {
        "id": "afkYhXi1o0N3"
      },
      "execution_count": null,
      "outputs": []
    },
    {
      "cell_type": "code",
      "source": [
        "years = int(input('please enter your age: '))"
      ],
      "metadata": {
        "colab": {
          "base_uri": "https://localhost:8080/"
        },
        "id": "5FcCrxqdp-5v",
        "outputId": "ad716987-2502-4023-9942-0b733b8ac038"
      },
      "execution_count": null,
      "outputs": [
        {
          "name": "stdout",
          "output_type": "stream",
          "text": [
            "please enter your age: 16\n"
          ]
        }
      ]
    },
    {
      "cell_type": "code",
      "source": [
        "piakkad(years)"
      ],
      "metadata": {
        "colab": {
          "base_uri": "https://localhost:8080/"
        },
        "id": "aPnTznD1qzff",
        "outputId": "82efea23-c8e6-4b1b-b481-a3ebde235cec"
      },
      "execution_count": null,
      "outputs": [
        {
          "output_type": "stream",
          "name": "stdout",
          "text": [
            "oops you have 5 years to become a piakkad and destroy your life\n"
          ]
        }
      ]
    },
    {
      "cell_type": "code",
      "source": [
        "# different btw print and return\n",
        "\n",
        "# play in vizualizer anticipate\n",
        "\n",
        "def add_five(num1):\n",
        "  return(num1+5)\n",
        "  print(num1 + 5)\n",
        "\n",
        "# removing return but inconsistent error\n"
      ],
      "metadata": {
        "id": "tTHRanf_tEDO"
      },
      "execution_count": null,
      "outputs": []
    },
    {
      "cell_type": "code",
      "source": [
        "add_five(42)"
      ],
      "metadata": {
        "colab": {
          "base_uri": "https://localhost:8080/"
        },
        "id": "3s8sjQEftKPp",
        "outputId": "0442e225-5bf0-443d-ec42-28c1035cb1a1"
      },
      "execution_count": null,
      "outputs": [
        {
          "output_type": "execute_result",
          "data": {
            "text/plain": [
              "47"
            ]
          },
          "metadata": {},
          "execution_count": 54
        }
      ]
    },
    {
      "cell_type": "code",
      "source": [
        "def add_six(num2):\n",
        "  return num2*5"
      ],
      "metadata": {
        "id": "n9GH9hvVwBuP"
      },
      "execution_count": null,
      "outputs": []
    },
    {
      "cell_type": "code",
      "source": [
        "add_six(add_five(42))"
      ],
      "metadata": {
        "colab": {
          "base_uri": "https://localhost:8080/"
        },
        "id": "HPdiQxLDwT2J",
        "outputId": "6cdb3440-aefe-46db-f069-17669157ac1a"
      },
      "execution_count": null,
      "outputs": [
        {
          "output_type": "execute_result",
          "data": {
            "text/plain": [
              "235"
            ]
          },
          "metadata": {},
          "execution_count": 56
        }
      ]
    },
    {
      "cell_type": "code",
      "source": [
        "a = int(input('whats your age: '))\n",
        "\n",
        "while a < 18:\n",
        "  a = int(input('whats your age: '))\n",
        "else:\n",
        "  print('ok ok')"
      ],
      "metadata": {
        "colab": {
          "base_uri": "https://localhost:8080/"
        },
        "id": "FOXHxUB7xKF0",
        "outputId": "cf2d5ca0-4b65-44d3-df39-25e16cb2b3f8"
      },
      "execution_count": null,
      "outputs": [
        {
          "output_type": "stream",
          "name": "stdout",
          "text": [
            "whats your age: 2\n",
            "whats your age: 6\n",
            "whats your age: 9\n",
            "whats your age: 8\n",
            "whats your age: 60\n",
            "ok ok\n"
          ]
        }
      ]
    },
    {
      "cell_type": "code",
      "source": [],
      "metadata": {
        "id": "RwNiop_Wx-PB"
      },
      "execution_count": null,
      "outputs": []
    }
  ]
}